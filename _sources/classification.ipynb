{
 "cells": [
  {
   "cell_type": "markdown",
   "metadata": {},
   "source": [
    "# Classification Modelle"
   ]
  },
  {
   "cell_type": "markdown",
   "metadata": {},
   "source": [
    "# Setup\n",
    "---"
   ]
  },
  {
   "cell_type": "markdown",
   "metadata": {},
   "source": [
    "### Import Module & Libraries"
   ]
  },
  {
   "cell_type": "markdown",
   "metadata": {},
   "source": [
    "Zu Beginn werden die benötigten Komponenten aus den entsprechenden Libraries importiert."
   ]
  },
  {
   "cell_type": "code",
   "execution_count": 2,
   "metadata": {},
   "outputs": [],
   "source": [
    "import pandas as pd\n",
    "import numpy as np\n",
    "\n",
    "import statsmodels.api as sm\n",
    "import statsmodels.formula.api as smf\n",
    "\n",
    "from scipy.stats import chi2_contingency, fisher_exact\n",
    "\n",
    "import matplotlib.pyplot as plt\n",
    "import seaborn as sns\n",
    "\n",
    "from sklearn.model_selection import train_test_split\n",
    "\n",
    "import sklearn.linear_model as skl_lm\n",
    "\n",
    "\n",
    "# Module für Pipeline\n",
    "from sklearn.compose import ColumnTransformer\n",
    "from sklearn.compose import make_column_selector as selector\n",
    "from sklearn.pipeline import Pipeline\n",
    "from sklearn.impute import SimpleImputer\n",
    "from sklearn.preprocessing import StandardScaler, OneHotEncoder\n",
    "\n",
    "from sklearn.metrics import confusion_matrix, ConfusionMatrixDisplay\n",
    "from sklearn.metrics import classification_report\n",
    "\n",
    "sns.set_theme()\n",
    "%matplotlib inline"
   ]
  },
  {
   "cell_type": "markdown",
   "metadata": {},
   "source": [
    "### Erstellen einer Pipeline"
   ]
  },
  {
   "cell_type": "markdown",
   "metadata": {},
   "source": [
    "Um die numerische und kategoriale Variablen automatisch in ein korrektes Format für die scikit learn Modelle zu transformieren, wird an dieser Stelle eine Pipeline definiert. Diese besteht aus verschiedenen Elementen, welche bspw. fehlende Werte ausfüllt (SimpleImputer) oder kategoriale Variablen in ein binäres Format umwandelt (OneHotEncoder)."
   ]
  },
  {
   "cell_type": "code",
   "execution_count": 3,
   "metadata": {},
   "outputs": [],
   "source": [
    "# für numeric features\n",
    "numeric_transformer = Pipeline(steps=[\n",
    "    ('imputer', SimpleImputer(strategy='median')),\n",
    "    ('scaler', StandardScaler())\n",
    "    ])"
   ]
  },
  {
   "cell_type": "code",
   "execution_count": 4,
   "metadata": {},
   "outputs": [],
   "source": [
    "# für categorical features  \n",
    "categorical_transformer = Pipeline(steps=[\n",
    "    ('imputer', SimpleImputer(strategy='constant', fill_value='missing')),\n",
    "    ('onehot', OneHotEncoder(handle_unknown='ignore'))\n",
    "    ])"
   ]
  },
  {
   "cell_type": "code",
   "execution_count": 5,
   "metadata": {},
   "outputs": [],
   "source": [
    "# Erstellen der Pipeline, zusammenführen von cat und numeric transformer\n",
    "preprocessor = ColumnTransformer(transformers=[\n",
    "    ('num', numeric_transformer, selector(dtype_exclude=\"category\")),\n",
    "    ('cat', categorical_transformer, selector(dtype_include=\"category\"))\n",
    "        ])"
   ]
  },
  {
   "cell_type": "markdown",
   "metadata": {},
   "source": [
    "# Import Data\n",
    "---"
   ]
  },
  {
   "cell_type": "markdown",
   "metadata": {},
   "source": [
    "Als nächstes wird der Datensatz aus dem GitHub Repository importiert."
   ]
  },
  {
   "cell_type": "code",
   "execution_count": 6,
   "metadata": {},
   "outputs": [],
   "source": [
    "ROOT = \"https://raw.githubusercontent.com/jan-kirenz/project-OliScha/main/\"\n",
    "DATA = \"project_data.csv?token=GHSAT0AAAAAABPCEITIYHBIEPRTFMZJXUGKYPKREJQ\"\n",
    "\n",
    "df = pd.read_csv(ROOT + DATA)"
   ]
  },
  {
   "cell_type": "markdown",
   "metadata": {},
   "source": [
    "Wir werfen einen ersten Blick auf die Daten um zu prüfen, ob der Import funktioniert hat. Hier fällt direkt auf, dass die erste Observation durch Text und ein Währungszeichen verunreigt ist."
   ]
  },
  {
   "cell_type": "code",
   "execution_count": 7,
   "metadata": {},
   "outputs": [
    {
     "data": {
      "text/html": [
       "<div>\n",
       "<style scoped>\n",
       "    .dataframe tbody tr th:only-of-type {\n",
       "        vertical-align: middle;\n",
       "    }\n",
       "\n",
       "    .dataframe tbody tr th {\n",
       "        vertical-align: top;\n",
       "    }\n",
       "\n",
       "    .dataframe thead th {\n",
       "        text-align: right;\n",
       "    }\n",
       "</style>\n",
       "<table border=\"1\" class=\"dataframe\">\n",
       "  <thead>\n",
       "    <tr style=\"text-align: right;\">\n",
       "      <th></th>\n",
       "      <th>longitude</th>\n",
       "      <th>latitude</th>\n",
       "      <th>housing_median_age</th>\n",
       "      <th>total_rooms</th>\n",
       "      <th>total_bedrooms</th>\n",
       "      <th>population</th>\n",
       "      <th>households</th>\n",
       "      <th>median_income</th>\n",
       "      <th>median_house_value</th>\n",
       "      <th>ocean_proximity</th>\n",
       "      <th>price_category</th>\n",
       "    </tr>\n",
       "  </thead>\n",
       "  <tbody>\n",
       "    <tr>\n",
       "      <th>0</th>\n",
       "      <td>-122.23</td>\n",
       "      <td>37.88</td>\n",
       "      <td>41.0years</td>\n",
       "      <td>880</td>\n",
       "      <td>129.0</td>\n",
       "      <td>322</td>\n",
       "      <td>126</td>\n",
       "      <td>8.3252</td>\n",
       "      <td>452600.0$</td>\n",
       "      <td>NEAR BAY</td>\n",
       "      <td>above</td>\n",
       "    </tr>\n",
       "    <tr>\n",
       "      <th>1</th>\n",
       "      <td>-122.22</td>\n",
       "      <td>37.86</td>\n",
       "      <td>21.0</td>\n",
       "      <td>7099</td>\n",
       "      <td>1106.0</td>\n",
       "      <td>2401</td>\n",
       "      <td>1138</td>\n",
       "      <td>8.3014</td>\n",
       "      <td>358500.0</td>\n",
       "      <td>NEAR BAY</td>\n",
       "      <td>above</td>\n",
       "    </tr>\n",
       "    <tr>\n",
       "      <th>2</th>\n",
       "      <td>-122.24</td>\n",
       "      <td>37.85</td>\n",
       "      <td>52.0</td>\n",
       "      <td>1467</td>\n",
       "      <td>190.0</td>\n",
       "      <td>496</td>\n",
       "      <td>177</td>\n",
       "      <td>7.2574</td>\n",
       "      <td>352100.0</td>\n",
       "      <td>NEAR BAY</td>\n",
       "      <td>above</td>\n",
       "    </tr>\n",
       "    <tr>\n",
       "      <th>3</th>\n",
       "      <td>-122.25</td>\n",
       "      <td>37.85</td>\n",
       "      <td>52.0</td>\n",
       "      <td>1274</td>\n",
       "      <td>235.0</td>\n",
       "      <td>558</td>\n",
       "      <td>219</td>\n",
       "      <td>5.6431</td>\n",
       "      <td>341300.0</td>\n",
       "      <td>NEAR BAY</td>\n",
       "      <td>above</td>\n",
       "    </tr>\n",
       "    <tr>\n",
       "      <th>4</th>\n",
       "      <td>-122.25</td>\n",
       "      <td>37.85</td>\n",
       "      <td>52.0</td>\n",
       "      <td>1627</td>\n",
       "      <td>280.0</td>\n",
       "      <td>565</td>\n",
       "      <td>259</td>\n",
       "      <td>3.8462</td>\n",
       "      <td>342200.0</td>\n",
       "      <td>NEAR BAY</td>\n",
       "      <td>above</td>\n",
       "    </tr>\n",
       "    <tr>\n",
       "      <th>...</th>\n",
       "      <td>...</td>\n",
       "      <td>...</td>\n",
       "      <td>...</td>\n",
       "      <td>...</td>\n",
       "      <td>...</td>\n",
       "      <td>...</td>\n",
       "      <td>...</td>\n",
       "      <td>...</td>\n",
       "      <td>...</td>\n",
       "      <td>...</td>\n",
       "      <td>...</td>\n",
       "    </tr>\n",
       "    <tr>\n",
       "      <th>20635</th>\n",
       "      <td>-121.09</td>\n",
       "      <td>39.48</td>\n",
       "      <td>25.0</td>\n",
       "      <td>1665</td>\n",
       "      <td>374.0</td>\n",
       "      <td>845</td>\n",
       "      <td>330</td>\n",
       "      <td>1.5603</td>\n",
       "      <td>78100.0</td>\n",
       "      <td>INLAND</td>\n",
       "      <td>above</td>\n",
       "    </tr>\n",
       "    <tr>\n",
       "      <th>20636</th>\n",
       "      <td>-121.21</td>\n",
       "      <td>39.49</td>\n",
       "      <td>18.0</td>\n",
       "      <td>697</td>\n",
       "      <td>150.0</td>\n",
       "      <td>356</td>\n",
       "      <td>114</td>\n",
       "      <td>2.5568</td>\n",
       "      <td>77100.0</td>\n",
       "      <td>INLAND</td>\n",
       "      <td>above</td>\n",
       "    </tr>\n",
       "    <tr>\n",
       "      <th>20637</th>\n",
       "      <td>-121.22</td>\n",
       "      <td>39.43</td>\n",
       "      <td>17.0</td>\n",
       "      <td>2254</td>\n",
       "      <td>485.0</td>\n",
       "      <td>1007</td>\n",
       "      <td>433</td>\n",
       "      <td>1.7000</td>\n",
       "      <td>92300.0</td>\n",
       "      <td>INLAND</td>\n",
       "      <td>above</td>\n",
       "    </tr>\n",
       "    <tr>\n",
       "      <th>20638</th>\n",
       "      <td>-121.32</td>\n",
       "      <td>39.43</td>\n",
       "      <td>18.0</td>\n",
       "      <td>1860</td>\n",
       "      <td>409.0</td>\n",
       "      <td>741</td>\n",
       "      <td>349</td>\n",
       "      <td>1.8672</td>\n",
       "      <td>84700.0</td>\n",
       "      <td>INLAND</td>\n",
       "      <td>above</td>\n",
       "    </tr>\n",
       "    <tr>\n",
       "      <th>20639</th>\n",
       "      <td>-121.24</td>\n",
       "      <td>39.37</td>\n",
       "      <td>16.0</td>\n",
       "      <td>2785</td>\n",
       "      <td>616.0</td>\n",
       "      <td>1387</td>\n",
       "      <td>530</td>\n",
       "      <td>2.3886</td>\n",
       "      <td>89400.0</td>\n",
       "      <td>INLAND</td>\n",
       "      <td>above</td>\n",
       "    </tr>\n",
       "  </tbody>\n",
       "</table>\n",
       "<p>20640 rows × 11 columns</p>\n",
       "</div>"
      ],
      "text/plain": [
       "       longitude  latitude housing_median_age  total_rooms  total_bedrooms  \\\n",
       "0        -122.23     37.88          41.0years          880           129.0   \n",
       "1        -122.22     37.86               21.0         7099          1106.0   \n",
       "2        -122.24     37.85               52.0         1467           190.0   \n",
       "3        -122.25     37.85               52.0         1274           235.0   \n",
       "4        -122.25     37.85               52.0         1627           280.0   \n",
       "...          ...       ...                ...          ...             ...   \n",
       "20635    -121.09     39.48               25.0         1665           374.0   \n",
       "20636    -121.21     39.49               18.0          697           150.0   \n",
       "20637    -121.22     39.43               17.0         2254           485.0   \n",
       "20638    -121.32     39.43               18.0         1860           409.0   \n",
       "20639    -121.24     39.37               16.0         2785           616.0   \n",
       "\n",
       "       population  households  median_income median_house_value  \\\n",
       "0             322         126         8.3252          452600.0$   \n",
       "1            2401        1138         8.3014           358500.0   \n",
       "2             496         177         7.2574           352100.0   \n",
       "3             558         219         5.6431           341300.0   \n",
       "4             565         259         3.8462           342200.0   \n",
       "...           ...         ...            ...                ...   \n",
       "20635         845         330         1.5603            78100.0   \n",
       "20636         356         114         2.5568            77100.0   \n",
       "20637        1007         433         1.7000            92300.0   \n",
       "20638         741         349         1.8672            84700.0   \n",
       "20639        1387         530         2.3886            89400.0   \n",
       "\n",
       "      ocean_proximity price_category  \n",
       "0            NEAR BAY          above  \n",
       "1            NEAR BAY          above  \n",
       "2            NEAR BAY          above  \n",
       "3            NEAR BAY          above  \n",
       "4            NEAR BAY          above  \n",
       "...               ...            ...  \n",
       "20635          INLAND          above  \n",
       "20636          INLAND          above  \n",
       "20637          INLAND          above  \n",
       "20638          INLAND          above  \n",
       "20639          INLAND          above  \n",
       "\n",
       "[20640 rows x 11 columns]"
      ]
     },
     "execution_count": 7,
     "metadata": {},
     "output_type": "execute_result"
    }
   ],
   "source": [
    "# prüfen ob Import funktioniert hat\n",
    "df"
   ]
  },
  {
   "cell_type": "markdown",
   "metadata": {},
   "source": [
    "# Data Split\n",
    "---"
   ]
  },
  {
   "cell_type": "markdown",
   "metadata": {},
   "source": [
    "Direkt nach dem Import und einem ersten Blick auf die Daten werden die Daten in Traings- und Testdaten aufgeteilt. Alle folgenden Schritt finden auf Basis der Trainingsdaten statt, um möglichst realistische Ergebnisse bei der späteren Evaluation mit Testdaten zu erzielen.\n",
    "\n",
    "Dadurch soll ein möglichst realistischer generalization error (or out-of-sample error) erzielt werden.\n",
    "\n",
    "Bestimmte Schritte der Datenaufbereitung (datatypes, selbst erstellte Variablen etc.) müssen dann späte rallerdings auch für die Testdaten durchgeführt werden, um diese zur Evaluation nutzen zu können."
   ]
  },
  {
   "cell_type": "code",
   "execution_count": 8,
   "metadata": {},
   "outputs": [
    {
     "data": {
      "text/html": [
       "<div>\n",
       "<style scoped>\n",
       "    .dataframe tbody tr th:only-of-type {\n",
       "        vertical-align: middle;\n",
       "    }\n",
       "\n",
       "    .dataframe tbody tr th {\n",
       "        vertical-align: top;\n",
       "    }\n",
       "\n",
       "    .dataframe thead th {\n",
       "        text-align: right;\n",
       "    }\n",
       "</style>\n",
       "<table border=\"1\" class=\"dataframe\">\n",
       "  <thead>\n",
       "    <tr style=\"text-align: right;\">\n",
       "      <th></th>\n",
       "      <th>longitude</th>\n",
       "      <th>latitude</th>\n",
       "      <th>housing_median_age</th>\n",
       "      <th>total_rooms</th>\n",
       "      <th>total_bedrooms</th>\n",
       "      <th>population</th>\n",
       "      <th>households</th>\n",
       "      <th>median_income</th>\n",
       "      <th>median_house_value</th>\n",
       "      <th>ocean_proximity</th>\n",
       "      <th>price_category</th>\n",
       "    </tr>\n",
       "  </thead>\n",
       "  <tbody>\n",
       "    <tr>\n",
       "      <th>14740</th>\n",
       "      <td>-117.05</td>\n",
       "      <td>32.58</td>\n",
       "      <td>22.0</td>\n",
       "      <td>2101</td>\n",
       "      <td>399.0</td>\n",
       "      <td>1551</td>\n",
       "      <td>371</td>\n",
       "      <td>4.1518</td>\n",
       "      <td>136900.0</td>\n",
       "      <td>NEAR OCEAN</td>\n",
       "      <td>below</td>\n",
       "    </tr>\n",
       "    <tr>\n",
       "      <th>10101</th>\n",
       "      <td>-117.97</td>\n",
       "      <td>33.92</td>\n",
       "      <td>32.0</td>\n",
       "      <td>2620</td>\n",
       "      <td>398.0</td>\n",
       "      <td>1296</td>\n",
       "      <td>429</td>\n",
       "      <td>5.7796</td>\n",
       "      <td>241300.0</td>\n",
       "      <td>&lt;1H OCEAN</td>\n",
       "      <td>above</td>\n",
       "    </tr>\n",
       "    <tr>\n",
       "      <th>20566</th>\n",
       "      <td>-121.84</td>\n",
       "      <td>38.65</td>\n",
       "      <td>29.0</td>\n",
       "      <td>3167</td>\n",
       "      <td>548.0</td>\n",
       "      <td>1554</td>\n",
       "      <td>534</td>\n",
       "      <td>4.3487</td>\n",
       "      <td>200700.0</td>\n",
       "      <td>INLAND</td>\n",
       "      <td>above</td>\n",
       "    </tr>\n",
       "    <tr>\n",
       "      <th>2670</th>\n",
       "      <td>-115.60</td>\n",
       "      <td>33.20</td>\n",
       "      <td>37.0</td>\n",
       "      <td>709</td>\n",
       "      <td>187.0</td>\n",
       "      <td>390</td>\n",
       "      <td>142</td>\n",
       "      <td>2.4511</td>\n",
       "      <td>72500.0</td>\n",
       "      <td>INLAND</td>\n",
       "      <td>above</td>\n",
       "    </tr>\n",
       "    <tr>\n",
       "      <th>15709</th>\n",
       "      <td>-122.43</td>\n",
       "      <td>37.79</td>\n",
       "      <td>25.0</td>\n",
       "      <td>1637</td>\n",
       "      <td>394.0</td>\n",
       "      <td>649</td>\n",
       "      <td>379</td>\n",
       "      <td>5.0049</td>\n",
       "      <td>460000.0</td>\n",
       "      <td>NEAR BAY</td>\n",
       "      <td>above</td>\n",
       "    </tr>\n",
       "    <tr>\n",
       "      <th>...</th>\n",
       "      <td>...</td>\n",
       "      <td>...</td>\n",
       "      <td>...</td>\n",
       "      <td>...</td>\n",
       "      <td>...</td>\n",
       "      <td>...</td>\n",
       "      <td>...</td>\n",
       "      <td>...</td>\n",
       "      <td>...</td>\n",
       "      <td>...</td>\n",
       "      <td>...</td>\n",
       "    </tr>\n",
       "    <tr>\n",
       "      <th>7616</th>\n",
       "      <td>-118.22</td>\n",
       "      <td>33.86</td>\n",
       "      <td>16.0</td>\n",
       "      <td>8732</td>\n",
       "      <td>1489.0</td>\n",
       "      <td>3944</td>\n",
       "      <td>1493</td>\n",
       "      <td>5.1948</td>\n",
       "      <td>203500.0</td>\n",
       "      <td>&lt;1H OCEAN</td>\n",
       "      <td>above</td>\n",
       "    </tr>\n",
       "    <tr>\n",
       "      <th>8767</th>\n",
       "      <td>-118.39</td>\n",
       "      <td>33.81</td>\n",
       "      <td>35.0</td>\n",
       "      <td>1008</td>\n",
       "      <td>165.0</td>\n",
       "      <td>391</td>\n",
       "      <td>167</td>\n",
       "      <td>3.7778</td>\n",
       "      <td>487500.0</td>\n",
       "      <td>NEAR OCEAN</td>\n",
       "      <td>above</td>\n",
       "    </tr>\n",
       "    <tr>\n",
       "      <th>16388</th>\n",
       "      <td>-121.30</td>\n",
       "      <td>38.05</td>\n",
       "      <td>52.0</td>\n",
       "      <td>122</td>\n",
       "      <td>26.0</td>\n",
       "      <td>62</td>\n",
       "      <td>25</td>\n",
       "      <td>1.1500</td>\n",
       "      <td>112500.0</td>\n",
       "      <td>INLAND</td>\n",
       "      <td>below</td>\n",
       "    </tr>\n",
       "    <tr>\n",
       "      <th>19949</th>\n",
       "      <td>-119.37</td>\n",
       "      <td>36.21</td>\n",
       "      <td>35.0</td>\n",
       "      <td>2228</td>\n",
       "      <td>476.0</td>\n",
       "      <td>1567</td>\n",
       "      <td>449</td>\n",
       "      <td>1.4455</td>\n",
       "      <td>54100.0</td>\n",
       "      <td>INLAND</td>\n",
       "      <td>above</td>\n",
       "    </tr>\n",
       "    <tr>\n",
       "      <th>10078</th>\n",
       "      <td>-120.27</td>\n",
       "      <td>39.35</td>\n",
       "      <td>11.0</td>\n",
       "      <td>2520</td>\n",
       "      <td>401.0</td>\n",
       "      <td>397</td>\n",
       "      <td>165</td>\n",
       "      <td>4.6650</td>\n",
       "      <td>145600.0</td>\n",
       "      <td>INLAND</td>\n",
       "      <td>below</td>\n",
       "    </tr>\n",
       "  </tbody>\n",
       "</table>\n",
       "<p>16512 rows × 11 columns</p>\n",
       "</div>"
      ],
      "text/plain": [
       "       longitude  latitude housing_median_age  total_rooms  total_bedrooms  \\\n",
       "14740    -117.05     32.58               22.0         2101           399.0   \n",
       "10101    -117.97     33.92               32.0         2620           398.0   \n",
       "20566    -121.84     38.65               29.0         3167           548.0   \n",
       "2670     -115.60     33.20               37.0          709           187.0   \n",
       "15709    -122.43     37.79               25.0         1637           394.0   \n",
       "...          ...       ...                ...          ...             ...   \n",
       "7616     -118.22     33.86               16.0         8732          1489.0   \n",
       "8767     -118.39     33.81               35.0         1008           165.0   \n",
       "16388    -121.30     38.05               52.0          122            26.0   \n",
       "19949    -119.37     36.21               35.0         2228           476.0   \n",
       "10078    -120.27     39.35               11.0         2520           401.0   \n",
       "\n",
       "       population  households  median_income median_house_value  \\\n",
       "14740        1551         371         4.1518           136900.0   \n",
       "10101        1296         429         5.7796           241300.0   \n",
       "20566        1554         534         4.3487           200700.0   \n",
       "2670          390         142         2.4511            72500.0   \n",
       "15709         649         379         5.0049           460000.0   \n",
       "...           ...         ...            ...                ...   \n",
       "7616         3944        1493         5.1948           203500.0   \n",
       "8767          391         167         3.7778           487500.0   \n",
       "16388          62          25         1.1500           112500.0   \n",
       "19949        1567         449         1.4455            54100.0   \n",
       "10078         397         165         4.6650           145600.0   \n",
       "\n",
       "      ocean_proximity price_category  \n",
       "14740      NEAR OCEAN          below  \n",
       "10101       <1H OCEAN          above  \n",
       "20566          INLAND          above  \n",
       "2670           INLAND          above  \n",
       "15709        NEAR BAY          above  \n",
       "...               ...            ...  \n",
       "7616        <1H OCEAN          above  \n",
       "8767       NEAR OCEAN          above  \n",
       "16388          INLAND          below  \n",
       "19949          INLAND          above  \n",
       "10078          INLAND          below  \n",
       "\n",
       "[16512 rows x 11 columns]"
      ]
     },
     "execution_count": 8,
     "metadata": {},
     "output_type": "execute_result"
    }
   ],
   "source": [
    "# Data Split\n",
    "train_dataset = df.sample(frac=0.8, random_state=0)\n",
    "test_dataset = df.drop(train_dataset.index)\n",
    "\n",
    "train_dataset"
   ]
  },
  {
   "cell_type": "markdown",
   "metadata": {},
   "source": [
    "# Data Inspection & EDA\n",
    "---"
   ]
  },
  {
   "cell_type": "markdown",
   "metadata": {},
   "source": [
    "Die ausführliche Untersuchung und Interpretation der Variablen wird im Kapitel \"Regression\" behandelt und ist auch für diese Kapitel gültig, da es sich um die selben Daten handelt.  \n",
    "  \n",
    "  \n",
    "    \n",
    "      "
   ]
  },
  {
   "cell_type": "markdown",
   "metadata": {},
   "source": [
    "# Data Transformation\n",
    "---"
   ]
  },
  {
   "cell_type": "markdown",
   "metadata": {},
   "source": [
    "## Anpassung Datatypes & Bereinigung"
   ]
  },
  {
   "cell_type": "markdown",
   "metadata": {},
   "source": [
    "Hier werden die gleichen Schritte durchgeführt wie im regression notebook."
   ]
  },
  {
   "cell_type": "code",
   "execution_count": 9,
   "metadata": {},
   "outputs": [],
   "source": [
    "# die identifizierten Observations mit NULL values sollen nun entfernt werden\n",
    "train_dataset = train_dataset.dropna()"
   ]
  },
  {
   "cell_type": "code",
   "execution_count": null,
   "metadata": {},
   "outputs": [],
   "source": [
    "# change datatype zu string um str.replace transformation durchzuführen\n",
    "train_dataset['median_house_value'] = train_dataset['median_house_value'].astype(\"string\")\n",
    "train_dataset['housing_median_age'] = train_dataset['housing_median_age'].astype(\"string\")\n",
    "\n",
    "# Bereinigung der fehlerhaften Werte\n",
    "train_dataset.median_house_value = train_dataset.median_house_value.str.replace(\"$\", \"\", regex =True)\n",
    "train_dataset.housing_median_age = train_dataset.housing_median_age.str.replace(\"years\", \"\", regex =True)"
   ]
  },
  {
   "cell_type": "code",
   "execution_count": null,
   "metadata": {},
   "outputs": [],
   "source": [
    "# Anpassung der datatypes\n",
    "train_dataset['median_house_value'] = train_dataset['median_house_value'].astype(\"float64\")\n",
    "train_dataset['housing_median_age'] = train_dataset['housing_median_age'].astype(\"float64\")\n",
    "train_dataset['total_bedrooms'] = train_dataset['total_bedrooms'].astype(\"int64\")\n",
    "train_dataset['ocean_proximity'] = train_dataset['ocean_proximity'].astype(\"category\")"
   ]
  },
  {
   "cell_type": "code",
   "execution_count": null,
   "metadata": {},
   "outputs": [],
   "source": [
    "#correct price_category values\n",
    "train_dataset['updated_price_cat'] = np.where(train_dataset.median_house_value >= 150000, 'above', 'below')"
   ]
  },
  {
   "cell_type": "code",
   "execution_count": null,
   "metadata": {},
   "outputs": [],
   "source": [
    "train_dataset['updated_price_cat'] = train_dataset['updated_price_cat'].astype(\"category\")"
   ]
  },
  {
   "cell_type": "code",
   "execution_count": 14,
   "metadata": {},
   "outputs": [],
   "source": [
    "train_dataset = train_dataset.drop(columns=['price_category','median_house_value'])"
   ]
  },
  {
   "cell_type": "code",
   "execution_count": 15,
   "metadata": {},
   "outputs": [
    {
     "data": {
      "text/html": [
       "<div>\n",
       "<style scoped>\n",
       "    .dataframe tbody tr th:only-of-type {\n",
       "        vertical-align: middle;\n",
       "    }\n",
       "\n",
       "    .dataframe tbody tr th {\n",
       "        vertical-align: top;\n",
       "    }\n",
       "\n",
       "    .dataframe thead th {\n",
       "        text-align: right;\n",
       "    }\n",
       "</style>\n",
       "<table border=\"1\" class=\"dataframe\">\n",
       "  <thead>\n",
       "    <tr style=\"text-align: right;\">\n",
       "      <th></th>\n",
       "      <th>longitude</th>\n",
       "      <th>latitude</th>\n",
       "      <th>housing_median_age</th>\n",
       "      <th>total_rooms</th>\n",
       "      <th>total_bedrooms</th>\n",
       "      <th>population</th>\n",
       "      <th>households</th>\n",
       "      <th>median_income</th>\n",
       "      <th>ocean_proximity</th>\n",
       "      <th>updated_price_cat</th>\n",
       "    </tr>\n",
       "  </thead>\n",
       "  <tbody>\n",
       "    <tr>\n",
       "      <th>14740</th>\n",
       "      <td>-117.05</td>\n",
       "      <td>32.58</td>\n",
       "      <td>22.0</td>\n",
       "      <td>2101</td>\n",
       "      <td>399</td>\n",
       "      <td>1551</td>\n",
       "      <td>371</td>\n",
       "      <td>4.1518</td>\n",
       "      <td>NEAR OCEAN</td>\n",
       "      <td>below</td>\n",
       "    </tr>\n",
       "    <tr>\n",
       "      <th>10101</th>\n",
       "      <td>-117.97</td>\n",
       "      <td>33.92</td>\n",
       "      <td>32.0</td>\n",
       "      <td>2620</td>\n",
       "      <td>398</td>\n",
       "      <td>1296</td>\n",
       "      <td>429</td>\n",
       "      <td>5.7796</td>\n",
       "      <td>&lt;1H OCEAN</td>\n",
       "      <td>above</td>\n",
       "    </tr>\n",
       "    <tr>\n",
       "      <th>20566</th>\n",
       "      <td>-121.84</td>\n",
       "      <td>38.65</td>\n",
       "      <td>29.0</td>\n",
       "      <td>3167</td>\n",
       "      <td>548</td>\n",
       "      <td>1554</td>\n",
       "      <td>534</td>\n",
       "      <td>4.3487</td>\n",
       "      <td>INLAND</td>\n",
       "      <td>above</td>\n",
       "    </tr>\n",
       "    <tr>\n",
       "      <th>2670</th>\n",
       "      <td>-115.60</td>\n",
       "      <td>33.20</td>\n",
       "      <td>37.0</td>\n",
       "      <td>709</td>\n",
       "      <td>187</td>\n",
       "      <td>390</td>\n",
       "      <td>142</td>\n",
       "      <td>2.4511</td>\n",
       "      <td>INLAND</td>\n",
       "      <td>below</td>\n",
       "    </tr>\n",
       "    <tr>\n",
       "      <th>15709</th>\n",
       "      <td>-122.43</td>\n",
       "      <td>37.79</td>\n",
       "      <td>25.0</td>\n",
       "      <td>1637</td>\n",
       "      <td>394</td>\n",
       "      <td>649</td>\n",
       "      <td>379</td>\n",
       "      <td>5.0049</td>\n",
       "      <td>NEAR BAY</td>\n",
       "      <td>above</td>\n",
       "    </tr>\n",
       "    <tr>\n",
       "      <th>...</th>\n",
       "      <td>...</td>\n",
       "      <td>...</td>\n",
       "      <td>...</td>\n",
       "      <td>...</td>\n",
       "      <td>...</td>\n",
       "      <td>...</td>\n",
       "      <td>...</td>\n",
       "      <td>...</td>\n",
       "      <td>...</td>\n",
       "      <td>...</td>\n",
       "    </tr>\n",
       "    <tr>\n",
       "      <th>7616</th>\n",
       "      <td>-118.22</td>\n",
       "      <td>33.86</td>\n",
       "      <td>16.0</td>\n",
       "      <td>8732</td>\n",
       "      <td>1489</td>\n",
       "      <td>3944</td>\n",
       "      <td>1493</td>\n",
       "      <td>5.1948</td>\n",
       "      <td>&lt;1H OCEAN</td>\n",
       "      <td>above</td>\n",
       "    </tr>\n",
       "    <tr>\n",
       "      <th>8767</th>\n",
       "      <td>-118.39</td>\n",
       "      <td>33.81</td>\n",
       "      <td>35.0</td>\n",
       "      <td>1008</td>\n",
       "      <td>165</td>\n",
       "      <td>391</td>\n",
       "      <td>167</td>\n",
       "      <td>3.7778</td>\n",
       "      <td>NEAR OCEAN</td>\n",
       "      <td>above</td>\n",
       "    </tr>\n",
       "    <tr>\n",
       "      <th>16388</th>\n",
       "      <td>-121.30</td>\n",
       "      <td>38.05</td>\n",
       "      <td>52.0</td>\n",
       "      <td>122</td>\n",
       "      <td>26</td>\n",
       "      <td>62</td>\n",
       "      <td>25</td>\n",
       "      <td>1.1500</td>\n",
       "      <td>INLAND</td>\n",
       "      <td>below</td>\n",
       "    </tr>\n",
       "    <tr>\n",
       "      <th>19949</th>\n",
       "      <td>-119.37</td>\n",
       "      <td>36.21</td>\n",
       "      <td>35.0</td>\n",
       "      <td>2228</td>\n",
       "      <td>476</td>\n",
       "      <td>1567</td>\n",
       "      <td>449</td>\n",
       "      <td>1.4455</td>\n",
       "      <td>INLAND</td>\n",
       "      <td>below</td>\n",
       "    </tr>\n",
       "    <tr>\n",
       "      <th>10078</th>\n",
       "      <td>-120.27</td>\n",
       "      <td>39.35</td>\n",
       "      <td>11.0</td>\n",
       "      <td>2520</td>\n",
       "      <td>401</td>\n",
       "      <td>397</td>\n",
       "      <td>165</td>\n",
       "      <td>4.6650</td>\n",
       "      <td>INLAND</td>\n",
       "      <td>below</td>\n",
       "    </tr>\n",
       "  </tbody>\n",
       "</table>\n",
       "<p>16352 rows × 10 columns</p>\n",
       "</div>"
      ],
      "text/plain": [
       "       longitude  latitude  housing_median_age  total_rooms  total_bedrooms  \\\n",
       "14740    -117.05     32.58                22.0         2101             399   \n",
       "10101    -117.97     33.92                32.0         2620             398   \n",
       "20566    -121.84     38.65                29.0         3167             548   \n",
       "2670     -115.60     33.20                37.0          709             187   \n",
       "15709    -122.43     37.79                25.0         1637             394   \n",
       "...          ...       ...                 ...          ...             ...   \n",
       "7616     -118.22     33.86                16.0         8732            1489   \n",
       "8767     -118.39     33.81                35.0         1008             165   \n",
       "16388    -121.30     38.05                52.0          122              26   \n",
       "19949    -119.37     36.21                35.0         2228             476   \n",
       "10078    -120.27     39.35                11.0         2520             401   \n",
       "\n",
       "       population  households  median_income ocean_proximity updated_price_cat  \n",
       "14740        1551         371         4.1518      NEAR OCEAN             below  \n",
       "10101        1296         429         5.7796       <1H OCEAN             above  \n",
       "20566        1554         534         4.3487          INLAND             above  \n",
       "2670          390         142         2.4511          INLAND             below  \n",
       "15709         649         379         5.0049        NEAR BAY             above  \n",
       "...           ...         ...            ...             ...               ...  \n",
       "7616         3944        1493         5.1948       <1H OCEAN             above  \n",
       "8767          391         167         3.7778      NEAR OCEAN             above  \n",
       "16388          62          25         1.1500          INLAND             below  \n",
       "19949        1567         449         1.4455          INLAND             below  \n",
       "10078         397         165         4.6650          INLAND             below  \n",
       "\n",
       "[16352 rows x 10 columns]"
      ]
     },
     "execution_count": 15,
     "metadata": {},
     "output_type": "execute_result"
    }
   ],
   "source": [
    "train_dataset"
   ]
  },
  {
   "cell_type": "markdown",
   "metadata": {},
   "source": [
    "## Feature Engineering"
   ]
  },
  {
   "cell_type": "code",
   "execution_count": 16,
   "metadata": {},
   "outputs": [],
   "source": [
    "# Erstellen neuer Variablen\n",
    "train_dataset=train_dataset.assign(people_per_household=lambda train_dataset: train_dataset.population/train_dataset.households)\n",
    "train_dataset=train_dataset.assign(bedrooms_per_household=lambda train_dataset: train_dataset.total_bedrooms/train_dataset.households)\n",
    "train_dataset=train_dataset.assign(rooms_per_household=lambda train_dataset: train_dataset.total_rooms/train_dataset.households)\n",
    "train_dataset=train_dataset.assign(bedrooms_per_room=lambda train_dataset: train_dataset.total_bedrooms/train_dataset.total_rooms)"
   ]
  },
  {
   "cell_type": "code",
   "execution_count": 17,
   "metadata": {},
   "outputs": [],
   "source": [
    "# people_per_household outlier droppen\n",
    "train_dataset = train_dataset.drop(index=[19006,3364,16669,13034])\n",
    "# rooms_per_household outlier droppen\n",
    "train_dataset = train_dataset.drop(index=[1914,1979])\n",
    "# bedrooms_per_household bereits in anderen enthalten und gedropped"
   ]
  },
  {
   "cell_type": "code",
   "execution_count": 18,
   "metadata": {},
   "outputs": [],
   "source": [
    "train_dataset.ocean_proximity = train_dataset.ocean_proximity.str.replace(\"ISLAND\", \"NEAR WATER\", regex =True)\n",
    "train_dataset.ocean_proximity = train_dataset.ocean_proximity.str.replace(\"NEAR BAY\", \"NEAR WATER\", regex =True)\n",
    "train_dataset.ocean_proximity = train_dataset.ocean_proximity.str.replace(\"NEAR OCEAN\", \"NEAR WATER\", regex =True)\n",
    "train_dataset.ocean_proximity = train_dataset.ocean_proximity.str.replace(\"<1H OCEAN\", \"NEAR WATER\", regex =True)\n"
   ]
  },
  {
   "cell_type": "code",
   "execution_count": 19,
   "metadata": {},
   "outputs": [],
   "source": [
    "# durch die gerade stattgefundene Transformation muss der datatype wieder korrigiert werden\n",
    "train_dataset['ocean_proximity'] = train_dataset['ocean_proximity'].astype(\"category\")"
   ]
  },
  {
   "cell_type": "markdown",
   "metadata": {},
   "source": [
    "# Modelling"
   ]
  },
  {
   "cell_type": "markdown",
   "metadata": {},
   "source": [
    "## Model 1 - Logistic Regression mit statsmodels"
   ]
  },
  {
   "cell_type": "markdown",
   "metadata": {},
   "source": [
    "Zu Beginn wird eine Kopie des Trainingsdatensets erstellt, um dieses bearbeiten zu können und das Original Datenset noch für das nächste Model zur Verfügung zu haben ohne es erneut erzeugen zu müssen."
   ]
  },
  {
   "cell_type": "markdown",
   "metadata": {},
   "source": [
    "Zur Vorhersage für das Logistic Regression Modell werden die gleichen Features verwendet, welche sich bereits in der linearen Regression bewährt haben."
   ]
  },
  {
   "cell_type": "code",
   "execution_count": 53,
   "metadata": {},
   "outputs": [],
   "source": [
    "model1 = smf.glm(formula = 'updated_price_cat ~ median_income + ocean_proximity + bedrooms_per_room + people_per_household + housing_median_age', \\\n",
    "    data=train_dataset, family=sm.families.Binomial()).fit()"
   ]
  },
  {
   "cell_type": "code",
   "execution_count": 21,
   "metadata": {},
   "outputs": [
    {
     "name": "stdout",
     "output_type": "stream",
     "text": [
      "                                    Generalized Linear Model Regression Results                                     \n",
      "====================================================================================================================\n",
      "Dep. Variable:     ['updated_price_cat[above]', 'updated_price_cat[below]']   No. Observations:                16346\n",
      "Model:                                                                  GLM   Df Residuals:                    16340\n",
      "Model Family:                                                      Binomial   Df Model:                            5\n",
      "Link Function:                                                        logit   Scale:                          1.0000\n",
      "Method:                                                                IRLS   Log-Likelihood:                -5655.1\n",
      "Date:                                                      Wed, 19 Jan 2022   Deviance:                       11310.\n",
      "Time:                                                              19:36:37   Pearson chi2:                 1.45e+10\n",
      "No. Iterations:                                                           8                                         \n",
      "Covariance Type:                                                  nonrobust                                         \n",
      "=================================================================================================\n",
      "                                    coef    std err          z      P>|z|      [0.025      0.975]\n",
      "-------------------------------------------------------------------------------------------------\n",
      "Intercept                        -7.9927      0.231    -34.663      0.000      -8.445      -7.541\n",
      "ocean_proximity[T.NEAR WATER]     2.5434      0.059     43.225      0.000       2.428       2.659\n",
      "median_income                     1.5640      0.032     48.441      0.000       1.501       1.627\n",
      "bedrooms_per_room                 9.9226      0.581     17.086      0.000       8.784      11.061\n",
      "people_per_household             -0.2828      0.025    -11.506      0.000      -0.331      -0.235\n",
      "housing_median_age                0.0093      0.002      4.539      0.000       0.005       0.013\n",
      "=================================================================================================\n"
     ]
    }
   ],
   "source": [
    "print(model1.summary())"
   ]
  },
  {
   "cell_type": "markdown",
   "metadata": {},
   "source": [
    "DIe P-Values der Features weisen alle einen Wert von unter 0,05 auf, was bedeutet, dass wir die Null Hypothese verwerfen können und die Features für unser Modell verwenden können."
   ]
  },
  {
   "cell_type": "markdown",
   "metadata": {},
   "source": [
    "### Predict"
   ]
  },
  {
   "cell_type": "markdown",
   "metadata": {},
   "source": [
    "Im nächsten Schritt erstellen wir Vorhersagen auf Basis unseres Modells und erweitern unser dataset um die Angabe, bei welchem Threshold welche Vorhersage gemacht werden würde."
   ]
  },
  {
   "cell_type": "code",
   "execution_count": 22,
   "metadata": {},
   "outputs": [],
   "source": [
    "# Predictions erstellen und die Wahrscheinlichkeit zum dataset hinzufügen\n",
    "train_dataset['Probability_above'] = model1.predict()"
   ]
  },
  {
   "cell_type": "code",
   "execution_count": 23,
   "metadata": {},
   "outputs": [
    {
     "data": {
      "text/html": [
       "<div>\n",
       "<style scoped>\n",
       "    .dataframe tbody tr th:only-of-type {\n",
       "        vertical-align: middle;\n",
       "    }\n",
       "\n",
       "    .dataframe tbody tr th {\n",
       "        vertical-align: top;\n",
       "    }\n",
       "\n",
       "    .dataframe thead th {\n",
       "        text-align: right;\n",
       "    }\n",
       "</style>\n",
       "<table border=\"1\" class=\"dataframe\">\n",
       "  <thead>\n",
       "    <tr style=\"text-align: right;\">\n",
       "      <th></th>\n",
       "      <th>longitude</th>\n",
       "      <th>latitude</th>\n",
       "      <th>housing_median_age</th>\n",
       "      <th>total_rooms</th>\n",
       "      <th>total_bedrooms</th>\n",
       "      <th>population</th>\n",
       "      <th>households</th>\n",
       "      <th>median_income</th>\n",
       "      <th>ocean_proximity</th>\n",
       "      <th>updated_price_cat</th>\n",
       "      <th>people_per_household</th>\n",
       "      <th>bedrooms_per_household</th>\n",
       "      <th>rooms_per_household</th>\n",
       "      <th>bedrooms_per_room</th>\n",
       "      <th>Probability_above</th>\n",
       "      <th>Threshold 0.4</th>\n",
       "      <th>Threshold 0.5</th>\n",
       "      <th>Threshold 0.6</th>\n",
       "      <th>Threshold 0.7</th>\n",
       "    </tr>\n",
       "  </thead>\n",
       "  <tbody>\n",
       "    <tr>\n",
       "      <th>14740</th>\n",
       "      <td>-117.05</td>\n",
       "      <td>32.58</td>\n",
       "      <td>22.0</td>\n",
       "      <td>2101</td>\n",
       "      <td>399</td>\n",
       "      <td>1551</td>\n",
       "      <td>371</td>\n",
       "      <td>4.1518</td>\n",
       "      <td>NEAR WATER</td>\n",
       "      <td>below</td>\n",
       "      <td>4.180593</td>\n",
       "      <td>1.075472</td>\n",
       "      <td>5.663073</td>\n",
       "      <td>0.189910</td>\n",
       "      <td>0.875462</td>\n",
       "      <td>above</td>\n",
       "      <td>above</td>\n",
       "      <td>above</td>\n",
       "      <td>above</td>\n",
       "    </tr>\n",
       "    <tr>\n",
       "      <th>10101</th>\n",
       "      <td>-117.97</td>\n",
       "      <td>33.92</td>\n",
       "      <td>32.0</td>\n",
       "      <td>2620</td>\n",
       "      <td>398</td>\n",
       "      <td>1296</td>\n",
       "      <td>429</td>\n",
       "      <td>5.7796</td>\n",
       "      <td>NEAR WATER</td>\n",
       "      <td>above</td>\n",
       "      <td>3.020979</td>\n",
       "      <td>0.927739</td>\n",
       "      <td>6.107226</td>\n",
       "      <td>0.151908</td>\n",
       "      <td>0.989435</td>\n",
       "      <td>above</td>\n",
       "      <td>above</td>\n",
       "      <td>above</td>\n",
       "      <td>above</td>\n",
       "    </tr>\n",
       "    <tr>\n",
       "      <th>20566</th>\n",
       "      <td>-121.84</td>\n",
       "      <td>38.65</td>\n",
       "      <td>29.0</td>\n",
       "      <td>3167</td>\n",
       "      <td>548</td>\n",
       "      <td>1554</td>\n",
       "      <td>534</td>\n",
       "      <td>4.3487</td>\n",
       "      <td>INLAND</td>\n",
       "      <td>above</td>\n",
       "      <td>2.910112</td>\n",
       "      <td>1.026217</td>\n",
       "      <td>5.930712</td>\n",
       "      <td>0.173034</td>\n",
       "      <td>0.492852</td>\n",
       "      <td>above</td>\n",
       "      <td>below</td>\n",
       "      <td>below</td>\n",
       "      <td>below</td>\n",
       "    </tr>\n",
       "    <tr>\n",
       "      <th>2670</th>\n",
       "      <td>-115.60</td>\n",
       "      <td>33.20</td>\n",
       "      <td>37.0</td>\n",
       "      <td>709</td>\n",
       "      <td>187</td>\n",
       "      <td>390</td>\n",
       "      <td>142</td>\n",
       "      <td>2.4511</td>\n",
       "      <td>INLAND</td>\n",
       "      <td>below</td>\n",
       "      <td>2.746479</td>\n",
       "      <td>1.316901</td>\n",
       "      <td>4.992958</td>\n",
       "      <td>0.263752</td>\n",
       "      <td>0.121762</td>\n",
       "      <td>below</td>\n",
       "      <td>below</td>\n",
       "      <td>below</td>\n",
       "      <td>below</td>\n",
       "    </tr>\n",
       "    <tr>\n",
       "      <th>15709</th>\n",
       "      <td>-122.43</td>\n",
       "      <td>37.79</td>\n",
       "      <td>25.0</td>\n",
       "      <td>1637</td>\n",
       "      <td>394</td>\n",
       "      <td>649</td>\n",
       "      <td>379</td>\n",
       "      <td>5.0049</td>\n",
       "      <td>NEAR WATER</td>\n",
       "      <td>above</td>\n",
       "      <td>1.712401</td>\n",
       "      <td>1.039578</td>\n",
       "      <td>4.319261</td>\n",
       "      <td>0.240684</td>\n",
       "      <td>0.989165</td>\n",
       "      <td>above</td>\n",
       "      <td>above</td>\n",
       "      <td>above</td>\n",
       "      <td>above</td>\n",
       "    </tr>\n",
       "    <tr>\n",
       "      <th>...</th>\n",
       "      <td>...</td>\n",
       "      <td>...</td>\n",
       "      <td>...</td>\n",
       "      <td>...</td>\n",
       "      <td>...</td>\n",
       "      <td>...</td>\n",
       "      <td>...</td>\n",
       "      <td>...</td>\n",
       "      <td>...</td>\n",
       "      <td>...</td>\n",
       "      <td>...</td>\n",
       "      <td>...</td>\n",
       "      <td>...</td>\n",
       "      <td>...</td>\n",
       "      <td>...</td>\n",
       "      <td>...</td>\n",
       "      <td>...</td>\n",
       "      <td>...</td>\n",
       "      <td>...</td>\n",
       "    </tr>\n",
       "    <tr>\n",
       "      <th>7616</th>\n",
       "      <td>-118.22</td>\n",
       "      <td>33.86</td>\n",
       "      <td>16.0</td>\n",
       "      <td>8732</td>\n",
       "      <td>1489</td>\n",
       "      <td>3944</td>\n",
       "      <td>1493</td>\n",
       "      <td>5.1948</td>\n",
       "      <td>NEAR WATER</td>\n",
       "      <td>above</td>\n",
       "      <td>2.641661</td>\n",
       "      <td>0.997321</td>\n",
       "      <td>5.848627</td>\n",
       "      <td>0.170522</td>\n",
       "      <td>0.977437</td>\n",
       "      <td>above</td>\n",
       "      <td>above</td>\n",
       "      <td>above</td>\n",
       "      <td>above</td>\n",
       "    </tr>\n",
       "    <tr>\n",
       "      <th>8767</th>\n",
       "      <td>-118.39</td>\n",
       "      <td>33.81</td>\n",
       "      <td>35.0</td>\n",
       "      <td>1008</td>\n",
       "      <td>165</td>\n",
       "      <td>391</td>\n",
       "      <td>167</td>\n",
       "      <td>3.7778</td>\n",
       "      <td>NEAR WATER</td>\n",
       "      <td>above</td>\n",
       "      <td>2.341317</td>\n",
       "      <td>0.988024</td>\n",
       "      <td>6.035928</td>\n",
       "      <td>0.163690</td>\n",
       "      <td>0.851415</td>\n",
       "      <td>above</td>\n",
       "      <td>above</td>\n",
       "      <td>above</td>\n",
       "      <td>above</td>\n",
       "    </tr>\n",
       "    <tr>\n",
       "      <th>16388</th>\n",
       "      <td>-121.30</td>\n",
       "      <td>38.05</td>\n",
       "      <td>52.0</td>\n",
       "      <td>122</td>\n",
       "      <td>26</td>\n",
       "      <td>62</td>\n",
       "      <td>25</td>\n",
       "      <td>1.1500</td>\n",
       "      <td>INLAND</td>\n",
       "      <td>below</td>\n",
       "      <td>2.480000</td>\n",
       "      <td>1.040000</td>\n",
       "      <td>4.880000</td>\n",
       "      <td>0.213115</td>\n",
       "      <td>0.013403</td>\n",
       "      <td>below</td>\n",
       "      <td>below</td>\n",
       "      <td>below</td>\n",
       "      <td>below</td>\n",
       "    </tr>\n",
       "    <tr>\n",
       "      <th>19949</th>\n",
       "      <td>-119.37</td>\n",
       "      <td>36.21</td>\n",
       "      <td>35.0</td>\n",
       "      <td>2228</td>\n",
       "      <td>476</td>\n",
       "      <td>1567</td>\n",
       "      <td>449</td>\n",
       "      <td>1.4455</td>\n",
       "      <td>INLAND</td>\n",
       "      <td>below</td>\n",
       "      <td>3.489978</td>\n",
       "      <td>1.060134</td>\n",
       "      <td>4.962138</td>\n",
       "      <td>0.213645</td>\n",
       "      <td>0.013726</td>\n",
       "      <td>below</td>\n",
       "      <td>below</td>\n",
       "      <td>below</td>\n",
       "      <td>below</td>\n",
       "    </tr>\n",
       "    <tr>\n",
       "      <th>10078</th>\n",
       "      <td>-120.27</td>\n",
       "      <td>39.35</td>\n",
       "      <td>11.0</td>\n",
       "      <td>2520</td>\n",
       "      <td>401</td>\n",
       "      <td>397</td>\n",
       "      <td>165</td>\n",
       "      <td>4.6650</td>\n",
       "      <td>INLAND</td>\n",
       "      <td>below</td>\n",
       "      <td>2.406061</td>\n",
       "      <td>2.430303</td>\n",
       "      <td>15.272727</td>\n",
       "      <td>0.159127</td>\n",
       "      <td>0.575370</td>\n",
       "      <td>above</td>\n",
       "      <td>above</td>\n",
       "      <td>below</td>\n",
       "      <td>below</td>\n",
       "    </tr>\n",
       "  </tbody>\n",
       "</table>\n",
       "<p>16346 rows × 19 columns</p>\n",
       "</div>"
      ],
      "text/plain": [
       "       longitude  latitude  housing_median_age  total_rooms  total_bedrooms  \\\n",
       "14740    -117.05     32.58                22.0         2101             399   \n",
       "10101    -117.97     33.92                32.0         2620             398   \n",
       "20566    -121.84     38.65                29.0         3167             548   \n",
       "2670     -115.60     33.20                37.0          709             187   \n",
       "15709    -122.43     37.79                25.0         1637             394   \n",
       "...          ...       ...                 ...          ...             ...   \n",
       "7616     -118.22     33.86                16.0         8732            1489   \n",
       "8767     -118.39     33.81                35.0         1008             165   \n",
       "16388    -121.30     38.05                52.0          122              26   \n",
       "19949    -119.37     36.21                35.0         2228             476   \n",
       "10078    -120.27     39.35                11.0         2520             401   \n",
       "\n",
       "       population  households  median_income ocean_proximity  \\\n",
       "14740        1551         371         4.1518      NEAR WATER   \n",
       "10101        1296         429         5.7796      NEAR WATER   \n",
       "20566        1554         534         4.3487          INLAND   \n",
       "2670          390         142         2.4511          INLAND   \n",
       "15709         649         379         5.0049      NEAR WATER   \n",
       "...           ...         ...            ...             ...   \n",
       "7616         3944        1493         5.1948      NEAR WATER   \n",
       "8767          391         167         3.7778      NEAR WATER   \n",
       "16388          62          25         1.1500          INLAND   \n",
       "19949        1567         449         1.4455          INLAND   \n",
       "10078         397         165         4.6650          INLAND   \n",
       "\n",
       "      updated_price_cat  people_per_household  bedrooms_per_household  \\\n",
       "14740             below              4.180593                1.075472   \n",
       "10101             above              3.020979                0.927739   \n",
       "20566             above              2.910112                1.026217   \n",
       "2670              below              2.746479                1.316901   \n",
       "15709             above              1.712401                1.039578   \n",
       "...                 ...                   ...                     ...   \n",
       "7616              above              2.641661                0.997321   \n",
       "8767              above              2.341317                0.988024   \n",
       "16388             below              2.480000                1.040000   \n",
       "19949             below              3.489978                1.060134   \n",
       "10078             below              2.406061                2.430303   \n",
       "\n",
       "       rooms_per_household  bedrooms_per_room  Probability_above  \\\n",
       "14740             5.663073           0.189910           0.875462   \n",
       "10101             6.107226           0.151908           0.989435   \n",
       "20566             5.930712           0.173034           0.492852   \n",
       "2670              4.992958           0.263752           0.121762   \n",
       "15709             4.319261           0.240684           0.989165   \n",
       "...                    ...                ...                ...   \n",
       "7616              5.848627           0.170522           0.977437   \n",
       "8767              6.035928           0.163690           0.851415   \n",
       "16388             4.880000           0.213115           0.013403   \n",
       "19949             4.962138           0.213645           0.013726   \n",
       "10078            15.272727           0.159127           0.575370   \n",
       "\n",
       "      Threshold 0.4 Threshold 0.5 Threshold 0.6 Threshold 0.7  \n",
       "14740         above         above         above         above  \n",
       "10101         above         above         above         above  \n",
       "20566         above         below         below         below  \n",
       "2670          below         below         below         below  \n",
       "15709         above         above         above         above  \n",
       "...             ...           ...           ...           ...  \n",
       "7616          above         above         above         above  \n",
       "8767          above         above         above         above  \n",
       "16388         below         below         below         below  \n",
       "19949         below         below         below         below  \n",
       "10078         above         above         below         below  \n",
       "\n",
       "[16346 rows x 19 columns]"
      ]
     },
     "execution_count": 23,
     "metadata": {},
     "output_type": "execute_result"
    }
   ],
   "source": [
    "# Use thresholds to discretize Probability\n",
    "train_dataset['Threshold 0.4'] = np.where(train_dataset['Probability_above'] > 0.4, 'above', 'below')\n",
    "train_dataset['Threshold 0.5'] = np.where(train_dataset['Probability_above'] > 0.5, 'above', 'below')\n",
    "train_dataset['Threshold 0.6'] = np.where(train_dataset['Probability_above'] > 0.6, 'above', 'below')\n",
    "train_dataset['Threshold 0.7'] = np.where(train_dataset['Probability_above'] > 0.7, 'above', 'below')\n",
    "\n",
    "train_dataset"
   ]
  },
  {
   "cell_type": "markdown",
   "metadata": {},
   "source": [
    "Im nächsten Schritt wird eine Funktion definiert, mit welcher die Confusion Matrizen für dieses Modell mit verschiedenen Thresholds dargestellt werden."
   ]
  },
  {
   "cell_type": "code",
   "execution_count": 24,
   "metadata": {},
   "outputs": [],
   "source": [
    "def print_metrics(train_dataset, predicted):\n",
    "    # Header\n",
    "    print('-'*50)\n",
    "    print(f'Metrics for: {predicted}\\n')\n",
    "    \n",
    "    # Confusion Matrix\n",
    "    y_actu = pd.Series(train_dataset['updated_price_cat'], name='Actual')\n",
    "    y_pred = pd.Series(train_dataset[predicted], name='Predicted')\n",
    "    train_dataset_conf = pd.crosstab(y_actu, y_pred)\n",
    "    display(train_dataset_conf)\n",
    "    \n",
    "    # Confusion Matrix to variables:\n",
    "    pop = train_dataset_conf.values.sum()\n",
    "    tp = train_dataset_conf['above']['above']\n",
    "    tn = train_dataset_conf['below']['below']\n",
    "    fp = train_dataset_conf['above']['below']\n",
    "    fn = train_dataset_conf['below']['above']\n",
    "    \n",
    "    # Metrics\n",
    "    accuracy = (tp + tn) / pop\n",
    "    precision = tp / (tp + fp)\n",
    "    recall = tp / (tp + fn)\n",
    "    f1_score = 2 * ((precision * recall) / (precision + recall))\n",
    "    print(f'Accuracy:  {accuracy:.4f}')\n",
    "    print(f'Precision: {precision:.4f}')\n",
    "    print(f'Recall:    {recall:.4f}')\n",
    "    print(f'F1 Score:  {f1_score:.4f} \\n')"
   ]
  },
  {
   "cell_type": "code",
   "execution_count": 25,
   "metadata": {},
   "outputs": [
    {
     "name": "stdout",
     "output_type": "stream",
     "text": [
      "--------------------------------------------------\n",
      "Metrics for: Threshold 0.4\n",
      "\n"
     ]
    },
    {
     "data": {
      "text/html": [
       "<div>\n",
       "<style scoped>\n",
       "    .dataframe tbody tr th:only-of-type {\n",
       "        vertical-align: middle;\n",
       "    }\n",
       "\n",
       "    .dataframe tbody tr th {\n",
       "        vertical-align: top;\n",
       "    }\n",
       "\n",
       "    .dataframe thead th {\n",
       "        text-align: right;\n",
       "    }\n",
       "</style>\n",
       "<table border=\"1\" class=\"dataframe\">\n",
       "  <thead>\n",
       "    <tr style=\"text-align: right;\">\n",
       "      <th>Predicted</th>\n",
       "      <th>above</th>\n",
       "      <th>below</th>\n",
       "    </tr>\n",
       "    <tr>\n",
       "      <th>Actual</th>\n",
       "      <th></th>\n",
       "      <th></th>\n",
       "    </tr>\n",
       "  </thead>\n",
       "  <tbody>\n",
       "    <tr>\n",
       "      <th>above</th>\n",
       "      <td>9653</td>\n",
       "      <td>687</td>\n",
       "    </tr>\n",
       "    <tr>\n",
       "      <th>below</th>\n",
       "      <td>1873</td>\n",
       "      <td>4133</td>\n",
       "    </tr>\n",
       "  </tbody>\n",
       "</table>\n",
       "</div>"
      ],
      "text/plain": [
       "Predicted  above  below\n",
       "Actual                 \n",
       "above       9653    687\n",
       "below       1873   4133"
      ]
     },
     "metadata": {},
     "output_type": "display_data"
    },
    {
     "name": "stdout",
     "output_type": "stream",
     "text": [
      "Accuracy:  0.8434\n",
      "Precision: 0.8375\n",
      "Recall:    0.9336\n",
      "F1 Score:  0.8829 \n",
      "\n",
      "--------------------------------------------------\n",
      "Metrics for: Threshold 0.5\n",
      "\n"
     ]
    },
    {
     "data": {
      "text/html": [
       "<div>\n",
       "<style scoped>\n",
       "    .dataframe tbody tr th:only-of-type {\n",
       "        vertical-align: middle;\n",
       "    }\n",
       "\n",
       "    .dataframe tbody tr th {\n",
       "        vertical-align: top;\n",
       "    }\n",
       "\n",
       "    .dataframe thead th {\n",
       "        text-align: right;\n",
       "    }\n",
       "</style>\n",
       "<table border=\"1\" class=\"dataframe\">\n",
       "  <thead>\n",
       "    <tr style=\"text-align: right;\">\n",
       "      <th>Predicted</th>\n",
       "      <th>above</th>\n",
       "      <th>below</th>\n",
       "    </tr>\n",
       "    <tr>\n",
       "      <th>Actual</th>\n",
       "      <th></th>\n",
       "      <th></th>\n",
       "    </tr>\n",
       "  </thead>\n",
       "  <tbody>\n",
       "    <tr>\n",
       "      <th>above</th>\n",
       "      <td>9366</td>\n",
       "      <td>974</td>\n",
       "    </tr>\n",
       "    <tr>\n",
       "      <th>below</th>\n",
       "      <td>1441</td>\n",
       "      <td>4565</td>\n",
       "    </tr>\n",
       "  </tbody>\n",
       "</table>\n",
       "</div>"
      ],
      "text/plain": [
       "Predicted  above  below\n",
       "Actual                 \n",
       "above       9366    974\n",
       "below       1441   4565"
      ]
     },
     "metadata": {},
     "output_type": "display_data"
    },
    {
     "name": "stdout",
     "output_type": "stream",
     "text": [
      "Accuracy:  0.8523\n",
      "Precision: 0.8667\n",
      "Recall:    0.9058\n",
      "F1 Score:  0.8858 \n",
      "\n",
      "--------------------------------------------------\n",
      "Metrics for: Threshold 0.6\n",
      "\n"
     ]
    },
    {
     "data": {
      "text/html": [
       "<div>\n",
       "<style scoped>\n",
       "    .dataframe tbody tr th:only-of-type {\n",
       "        vertical-align: middle;\n",
       "    }\n",
       "\n",
       "    .dataframe tbody tr th {\n",
       "        vertical-align: top;\n",
       "    }\n",
       "\n",
       "    .dataframe thead th {\n",
       "        text-align: right;\n",
       "    }\n",
       "</style>\n",
       "<table border=\"1\" class=\"dataframe\">\n",
       "  <thead>\n",
       "    <tr style=\"text-align: right;\">\n",
       "      <th>Predicted</th>\n",
       "      <th>above</th>\n",
       "      <th>below</th>\n",
       "    </tr>\n",
       "    <tr>\n",
       "      <th>Actual</th>\n",
       "      <th></th>\n",
       "      <th></th>\n",
       "    </tr>\n",
       "  </thead>\n",
       "  <tbody>\n",
       "    <tr>\n",
       "      <th>above</th>\n",
       "      <td>8948</td>\n",
       "      <td>1392</td>\n",
       "    </tr>\n",
       "    <tr>\n",
       "      <th>below</th>\n",
       "      <td>1018</td>\n",
       "      <td>4988</td>\n",
       "    </tr>\n",
       "  </tbody>\n",
       "</table>\n",
       "</div>"
      ],
      "text/plain": [
       "Predicted  above  below\n",
       "Actual                 \n",
       "above       8948   1392\n",
       "below       1018   4988"
      ]
     },
     "metadata": {},
     "output_type": "display_data"
    },
    {
     "name": "stdout",
     "output_type": "stream",
     "text": [
      "Accuracy:  0.8526\n",
      "Precision: 0.8979\n",
      "Recall:    0.8654\n",
      "F1 Score:  0.8813 \n",
      "\n",
      "--------------------------------------------------\n",
      "Metrics for: Threshold 0.7\n",
      "\n"
     ]
    },
    {
     "data": {
      "text/html": [
       "<div>\n",
       "<style scoped>\n",
       "    .dataframe tbody tr th:only-of-type {\n",
       "        vertical-align: middle;\n",
       "    }\n",
       "\n",
       "    .dataframe tbody tr th {\n",
       "        vertical-align: top;\n",
       "    }\n",
       "\n",
       "    .dataframe thead th {\n",
       "        text-align: right;\n",
       "    }\n",
       "</style>\n",
       "<table border=\"1\" class=\"dataframe\">\n",
       "  <thead>\n",
       "    <tr style=\"text-align: right;\">\n",
       "      <th>Predicted</th>\n",
       "      <th>above</th>\n",
       "      <th>below</th>\n",
       "    </tr>\n",
       "    <tr>\n",
       "      <th>Actual</th>\n",
       "      <th></th>\n",
       "      <th></th>\n",
       "    </tr>\n",
       "  </thead>\n",
       "  <tbody>\n",
       "    <tr>\n",
       "      <th>above</th>\n",
       "      <td>8302</td>\n",
       "      <td>2038</td>\n",
       "    </tr>\n",
       "    <tr>\n",
       "      <th>below</th>\n",
       "      <td>690</td>\n",
       "      <td>5316</td>\n",
       "    </tr>\n",
       "  </tbody>\n",
       "</table>\n",
       "</div>"
      ],
      "text/plain": [
       "Predicted  above  below\n",
       "Actual                 \n",
       "above       8302   2038\n",
       "below        690   5316"
      ]
     },
     "metadata": {},
     "output_type": "display_data"
    },
    {
     "name": "stdout",
     "output_type": "stream",
     "text": [
      "Accuracy:  0.8331\n",
      "Precision: 0.9233\n",
      "Recall:    0.8029\n",
      "F1 Score:  0.8589 \n",
      "\n"
     ]
    }
   ],
   "source": [
    "print_metrics(train_dataset, 'Threshold 0.4')\n",
    "print_metrics(train_dataset, 'Threshold 0.5')\n",
    "print_metrics(train_dataset, 'Threshold 0.6')\n",
    "print_metrics(train_dataset, 'Threshold 0.7')"
   ]
  },
  {
   "cell_type": "markdown",
   "metadata": {},
   "source": [
    "Aus der Sicht eines Immobilienunternehmens sollten weder zu viele Fehlinvestitionen getätigt werden noch gute Investitionsgelegenheiten verpassen werden. Deshalb wird der Threshold mit dem besten F1 Score, welche das Mittel zwischen Precision und Recall darstellt, gewählt.\n",
    "Demnach wäre das **Modell** **mit** **Threshold** **0,5** am besten geeignet."
   ]
  },
  {
   "cell_type": "markdown",
   "metadata": {},
   "source": [
    "Die zuvor hinzugefügten Spalten zur Evaluation des model1 werden nun wieder entfernt, um das dataset für das zweite Modell zu verwenden."
   ]
  },
  {
   "cell_type": "code",
   "execution_count": 26,
   "metadata": {},
   "outputs": [],
   "source": [
    "# droppen der hinzugefügten Spalten\n",
    "train_dataset = train_dataset.drop(columns=['Probability_above','Threshold 0.4','Threshold 0.5','Threshold 0.6','Threshold 0.7'])"
   ]
  },
  {
   "cell_type": "code",
   "execution_count": 27,
   "metadata": {},
   "outputs": [
    {
     "data": {
      "text/html": [
       "<div>\n",
       "<style scoped>\n",
       "    .dataframe tbody tr th:only-of-type {\n",
       "        vertical-align: middle;\n",
       "    }\n",
       "\n",
       "    .dataframe tbody tr th {\n",
       "        vertical-align: top;\n",
       "    }\n",
       "\n",
       "    .dataframe thead th {\n",
       "        text-align: right;\n",
       "    }\n",
       "</style>\n",
       "<table border=\"1\" class=\"dataframe\">\n",
       "  <thead>\n",
       "    <tr style=\"text-align: right;\">\n",
       "      <th></th>\n",
       "      <th>longitude</th>\n",
       "      <th>latitude</th>\n",
       "      <th>housing_median_age</th>\n",
       "      <th>total_rooms</th>\n",
       "      <th>total_bedrooms</th>\n",
       "      <th>population</th>\n",
       "      <th>households</th>\n",
       "      <th>median_income</th>\n",
       "      <th>ocean_proximity</th>\n",
       "      <th>updated_price_cat</th>\n",
       "      <th>people_per_household</th>\n",
       "      <th>bedrooms_per_household</th>\n",
       "      <th>rooms_per_household</th>\n",
       "      <th>bedrooms_per_room</th>\n",
       "    </tr>\n",
       "  </thead>\n",
       "  <tbody>\n",
       "    <tr>\n",
       "      <th>14740</th>\n",
       "      <td>-117.05</td>\n",
       "      <td>32.58</td>\n",
       "      <td>22.0</td>\n",
       "      <td>2101</td>\n",
       "      <td>399</td>\n",
       "      <td>1551</td>\n",
       "      <td>371</td>\n",
       "      <td>4.1518</td>\n",
       "      <td>NEAR WATER</td>\n",
       "      <td>below</td>\n",
       "      <td>4.180593</td>\n",
       "      <td>1.075472</td>\n",
       "      <td>5.663073</td>\n",
       "      <td>0.189910</td>\n",
       "    </tr>\n",
       "    <tr>\n",
       "      <th>10101</th>\n",
       "      <td>-117.97</td>\n",
       "      <td>33.92</td>\n",
       "      <td>32.0</td>\n",
       "      <td>2620</td>\n",
       "      <td>398</td>\n",
       "      <td>1296</td>\n",
       "      <td>429</td>\n",
       "      <td>5.7796</td>\n",
       "      <td>NEAR WATER</td>\n",
       "      <td>above</td>\n",
       "      <td>3.020979</td>\n",
       "      <td>0.927739</td>\n",
       "      <td>6.107226</td>\n",
       "      <td>0.151908</td>\n",
       "    </tr>\n",
       "    <tr>\n",
       "      <th>20566</th>\n",
       "      <td>-121.84</td>\n",
       "      <td>38.65</td>\n",
       "      <td>29.0</td>\n",
       "      <td>3167</td>\n",
       "      <td>548</td>\n",
       "      <td>1554</td>\n",
       "      <td>534</td>\n",
       "      <td>4.3487</td>\n",
       "      <td>INLAND</td>\n",
       "      <td>above</td>\n",
       "      <td>2.910112</td>\n",
       "      <td>1.026217</td>\n",
       "      <td>5.930712</td>\n",
       "      <td>0.173034</td>\n",
       "    </tr>\n",
       "    <tr>\n",
       "      <th>2670</th>\n",
       "      <td>-115.60</td>\n",
       "      <td>33.20</td>\n",
       "      <td>37.0</td>\n",
       "      <td>709</td>\n",
       "      <td>187</td>\n",
       "      <td>390</td>\n",
       "      <td>142</td>\n",
       "      <td>2.4511</td>\n",
       "      <td>INLAND</td>\n",
       "      <td>below</td>\n",
       "      <td>2.746479</td>\n",
       "      <td>1.316901</td>\n",
       "      <td>4.992958</td>\n",
       "      <td>0.263752</td>\n",
       "    </tr>\n",
       "    <tr>\n",
       "      <th>15709</th>\n",
       "      <td>-122.43</td>\n",
       "      <td>37.79</td>\n",
       "      <td>25.0</td>\n",
       "      <td>1637</td>\n",
       "      <td>394</td>\n",
       "      <td>649</td>\n",
       "      <td>379</td>\n",
       "      <td>5.0049</td>\n",
       "      <td>NEAR WATER</td>\n",
       "      <td>above</td>\n",
       "      <td>1.712401</td>\n",
       "      <td>1.039578</td>\n",
       "      <td>4.319261</td>\n",
       "      <td>0.240684</td>\n",
       "    </tr>\n",
       "    <tr>\n",
       "      <th>...</th>\n",
       "      <td>...</td>\n",
       "      <td>...</td>\n",
       "      <td>...</td>\n",
       "      <td>...</td>\n",
       "      <td>...</td>\n",
       "      <td>...</td>\n",
       "      <td>...</td>\n",
       "      <td>...</td>\n",
       "      <td>...</td>\n",
       "      <td>...</td>\n",
       "      <td>...</td>\n",
       "      <td>...</td>\n",
       "      <td>...</td>\n",
       "      <td>...</td>\n",
       "    </tr>\n",
       "    <tr>\n",
       "      <th>7616</th>\n",
       "      <td>-118.22</td>\n",
       "      <td>33.86</td>\n",
       "      <td>16.0</td>\n",
       "      <td>8732</td>\n",
       "      <td>1489</td>\n",
       "      <td>3944</td>\n",
       "      <td>1493</td>\n",
       "      <td>5.1948</td>\n",
       "      <td>NEAR WATER</td>\n",
       "      <td>above</td>\n",
       "      <td>2.641661</td>\n",
       "      <td>0.997321</td>\n",
       "      <td>5.848627</td>\n",
       "      <td>0.170522</td>\n",
       "    </tr>\n",
       "    <tr>\n",
       "      <th>8767</th>\n",
       "      <td>-118.39</td>\n",
       "      <td>33.81</td>\n",
       "      <td>35.0</td>\n",
       "      <td>1008</td>\n",
       "      <td>165</td>\n",
       "      <td>391</td>\n",
       "      <td>167</td>\n",
       "      <td>3.7778</td>\n",
       "      <td>NEAR WATER</td>\n",
       "      <td>above</td>\n",
       "      <td>2.341317</td>\n",
       "      <td>0.988024</td>\n",
       "      <td>6.035928</td>\n",
       "      <td>0.163690</td>\n",
       "    </tr>\n",
       "    <tr>\n",
       "      <th>16388</th>\n",
       "      <td>-121.30</td>\n",
       "      <td>38.05</td>\n",
       "      <td>52.0</td>\n",
       "      <td>122</td>\n",
       "      <td>26</td>\n",
       "      <td>62</td>\n",
       "      <td>25</td>\n",
       "      <td>1.1500</td>\n",
       "      <td>INLAND</td>\n",
       "      <td>below</td>\n",
       "      <td>2.480000</td>\n",
       "      <td>1.040000</td>\n",
       "      <td>4.880000</td>\n",
       "      <td>0.213115</td>\n",
       "    </tr>\n",
       "    <tr>\n",
       "      <th>19949</th>\n",
       "      <td>-119.37</td>\n",
       "      <td>36.21</td>\n",
       "      <td>35.0</td>\n",
       "      <td>2228</td>\n",
       "      <td>476</td>\n",
       "      <td>1567</td>\n",
       "      <td>449</td>\n",
       "      <td>1.4455</td>\n",
       "      <td>INLAND</td>\n",
       "      <td>below</td>\n",
       "      <td>3.489978</td>\n",
       "      <td>1.060134</td>\n",
       "      <td>4.962138</td>\n",
       "      <td>0.213645</td>\n",
       "    </tr>\n",
       "    <tr>\n",
       "      <th>10078</th>\n",
       "      <td>-120.27</td>\n",
       "      <td>39.35</td>\n",
       "      <td>11.0</td>\n",
       "      <td>2520</td>\n",
       "      <td>401</td>\n",
       "      <td>397</td>\n",
       "      <td>165</td>\n",
       "      <td>4.6650</td>\n",
       "      <td>INLAND</td>\n",
       "      <td>below</td>\n",
       "      <td>2.406061</td>\n",
       "      <td>2.430303</td>\n",
       "      <td>15.272727</td>\n",
       "      <td>0.159127</td>\n",
       "    </tr>\n",
       "  </tbody>\n",
       "</table>\n",
       "<p>16346 rows × 14 columns</p>\n",
       "</div>"
      ],
      "text/plain": [
       "       longitude  latitude  housing_median_age  total_rooms  total_bedrooms  \\\n",
       "14740    -117.05     32.58                22.0         2101             399   \n",
       "10101    -117.97     33.92                32.0         2620             398   \n",
       "20566    -121.84     38.65                29.0         3167             548   \n",
       "2670     -115.60     33.20                37.0          709             187   \n",
       "15709    -122.43     37.79                25.0         1637             394   \n",
       "...          ...       ...                 ...          ...             ...   \n",
       "7616     -118.22     33.86                16.0         8732            1489   \n",
       "8767     -118.39     33.81                35.0         1008             165   \n",
       "16388    -121.30     38.05                52.0          122              26   \n",
       "19949    -119.37     36.21                35.0         2228             476   \n",
       "10078    -120.27     39.35                11.0         2520             401   \n",
       "\n",
       "       population  households  median_income ocean_proximity  \\\n",
       "14740        1551         371         4.1518      NEAR WATER   \n",
       "10101        1296         429         5.7796      NEAR WATER   \n",
       "20566        1554         534         4.3487          INLAND   \n",
       "2670          390         142         2.4511          INLAND   \n",
       "15709         649         379         5.0049      NEAR WATER   \n",
       "...           ...         ...            ...             ...   \n",
       "7616         3944        1493         5.1948      NEAR WATER   \n",
       "8767          391         167         3.7778      NEAR WATER   \n",
       "16388          62          25         1.1500          INLAND   \n",
       "19949        1567         449         1.4455          INLAND   \n",
       "10078         397         165         4.6650          INLAND   \n",
       "\n",
       "      updated_price_cat  people_per_household  bedrooms_per_household  \\\n",
       "14740             below              4.180593                1.075472   \n",
       "10101             above              3.020979                0.927739   \n",
       "20566             above              2.910112                1.026217   \n",
       "2670              below              2.746479                1.316901   \n",
       "15709             above              1.712401                1.039578   \n",
       "...                 ...                   ...                     ...   \n",
       "7616              above              2.641661                0.997321   \n",
       "8767              above              2.341317                0.988024   \n",
       "16388             below              2.480000                1.040000   \n",
       "19949             below              3.489978                1.060134   \n",
       "10078             below              2.406061                2.430303   \n",
       "\n",
       "       rooms_per_household  bedrooms_per_room  \n",
       "14740             5.663073           0.189910  \n",
       "10101             6.107226           0.151908  \n",
       "20566             5.930712           0.173034  \n",
       "2670              4.992958           0.263752  \n",
       "15709             4.319261           0.240684  \n",
       "...                    ...                ...  \n",
       "7616              5.848627           0.170522  \n",
       "8767              6.035928           0.163690  \n",
       "16388             4.880000           0.213115  \n",
       "19949             4.962138           0.213645  \n",
       "10078            15.272727           0.159127  \n",
       "\n",
       "[16346 rows x 14 columns]"
      ]
     },
     "execution_count": 27,
     "metadata": {},
     "output_type": "execute_result"
    }
   ],
   "source": [
    "train_dataset"
   ]
  },
  {
   "cell_type": "markdown",
   "metadata": {},
   "source": [
    "## Model 2 - Logistic Regression mit scikit learn"
   ]
  },
  {
   "cell_type": "markdown",
   "metadata": {},
   "source": [
    "### Data Split"
   ]
  },
  {
   "cell_type": "markdown",
   "metadata": {},
   "source": [
    "Für das scikit learn Modell werden die Daten in das von scikit learn verlangte Format gebracht. Dabei erzeugen wir auch Evaluationsdaten, mit welchen wir unser Modell vor der finalen Evaluation mit den Testdaten noch einmal bewerten können."
   ]
  },
  {
   "cell_type": "code",
   "execution_count": 28,
   "metadata": {},
   "outputs": [],
   "source": [
    "# prepara data for scikit learn \n",
    "X2 = train_dataset.drop(columns=['updated_price_cat','ocean_proximity'])\n",
    "y2 = train_dataset.updated_price_cat"
   ]
  },
  {
   "cell_type": "code",
   "execution_count": 29,
   "metadata": {},
   "outputs": [],
   "source": [
    "\n",
    "# Split in Trainings- und Testdaten\n",
    "X_train, X_val, y_train, y_val = train_test_split(X2, y2, test_size=0.2, random_state=42)"
   ]
  },
  {
   "cell_type": "markdown",
   "metadata": {},
   "source": [
    "### Model "
   ]
  },
  {
   "cell_type": "code",
   "execution_count": 30,
   "metadata": {},
   "outputs": [],
   "source": [
    "# Erstellen des Models mit Pipeline\n",
    "class_pipe = Pipeline(steps=[\n",
    "    ('preprocessor', preprocessor),\n",
    "    ('classification', skl_lm.LogisticRegression())\n",
    "                        ])"
   ]
  },
  {
   "cell_type": "code",
   "execution_count": 31,
   "metadata": {},
   "outputs": [],
   "source": [
    "y_pred = class_pipe.fit(X_train, y_train).predict(X_val)"
   ]
  },
  {
   "cell_type": "code",
   "execution_count": 32,
   "metadata": {},
   "outputs": [
    {
     "data": {
      "text/plain": [
       "0.8568807339449541"
      ]
     },
     "execution_count": 32,
     "metadata": {},
     "output_type": "execute_result"
    }
   ],
   "source": [
    "# Return the mean accuracy on the given test data and labels:\n",
    "class_pipe.score(X_val, y_val)"
   ]
  },
  {
   "cell_type": "code",
   "execution_count": 33,
   "metadata": {},
   "outputs": [
    {
     "data": {
      "image/png": "[encoded data removed]",
      "text/plain": [
       "<Figure size 432x288 with 2 Axes>"
      ]
     },
     "metadata": {
      "needs_background": "light"
     },
     "output_type": "display_data"
    }
   ],
   "source": [
    "# Threshold 0,5\n",
    "cm = confusion_matrix(y_val, y_pred)\n",
    "\n",
    "disp = ConfusionMatrixDisplay(confusion_matrix=cm,\n",
    "                              display_labels=class_pipe.classes_)\n",
    "disp.plot()\n",
    "plt.show()"
   ]
  },
  {
   "cell_type": "code",
   "execution_count": 34,
   "metadata": {},
   "outputs": [
    {
     "name": "stdout",
     "output_type": "stream",
     "text": [
      "              precision    recall  f1-score   support\n",
      "\n",
      "       above       0.88      0.90      0.89      2112\n",
      "       below       0.82      0.77      0.79      1158\n",
      "\n",
      "    accuracy                           0.86      3270\n",
      "   macro avg       0.85      0.84      0.84      3270\n",
      "weighted avg       0.86      0.86      0.86      3270\n",
      "\n"
     ]
    }
   ],
   "source": [
    "print(classification_report(y_val, y_pred, target_names=['above', 'below']))"
   ]
  },
  {
   "cell_type": "markdown",
   "metadata": {},
   "source": [
    "### Change Threshold"
   ]
  },
  {
   "cell_type": "code",
   "execution_count": 35,
   "metadata": {},
   "outputs": [
    {
     "data": {
      "image/png": "[encoded data removed]",
      "text/plain": [
       "<Figure size 432x288 with 2 Axes>"
      ]
     },
     "metadata": {
      "needs_background": "light"
     },
     "output_type": "display_data"
    }
   ],
   "source": [
    "pred_proba = class_pipe.predict_proba(X_val)\n",
    "\n",
    "y_pred_threshold = np.where(pred_proba[:,0] >= .4, 'above', 'below')\n",
    "\n",
    "cm = confusion_matrix(y_val, y_pred_threshold)\n",
    "\n",
    "disp = ConfusionMatrixDisplay(confusion_matrix=cm,\n",
    "                              display_labels=class_pipe.classes_)\n",
    "disp.plot()\n",
    "plt.show()"
   ]
  },
  {
   "cell_type": "code",
   "execution_count": 36,
   "metadata": {},
   "outputs": [
    {
     "name": "stdout",
     "output_type": "stream",
     "text": [
      "              precision    recall  f1-score   support\n",
      "\n",
      "       above       0.84      0.94      0.89      2112\n",
      "       below       0.85      0.69      0.76      1158\n",
      "\n",
      "    accuracy                           0.85      3270\n",
      "   macro avg       0.85      0.81      0.82      3270\n",
      "weighted avg       0.85      0.85      0.84      3270\n",
      "\n"
     ]
    }
   ],
   "source": [
    "print(classification_report(y_val, y_pred_threshold, target_names=['above', 'below']))"
   ]
  },
  {
   "cell_type": "code",
   "execution_count": 37,
   "metadata": {},
   "outputs": [
    {
     "data": {
      "image/png": "[encoded data removed]",
      "text/plain": [
       "<Figure size 432x288 with 2 Axes>"
      ]
     },
     "metadata": {
      "needs_background": "light"
     },
     "output_type": "display_data"
    }
   ],
   "source": [
    "pred_proba = class_pipe.predict_proba(X_val)\n",
    "\n",
    "\n",
    "\n",
    "y_pred_threshold2 = np.where(pred_proba[:,0] >= .6, 'above', 'below')\n",
    "\n",
    "cm = confusion_matrix(y_val, y_pred_threshold2)\n",
    "\n",
    "disp = ConfusionMatrixDisplay(confusion_matrix=cm,\n",
    "                              display_labels=class_pipe.classes_)\n",
    "disp.plot()\n",
    "plt.show()"
   ]
  },
  {
   "cell_type": "code",
   "execution_count": 38,
   "metadata": {},
   "outputs": [
    {
     "name": "stdout",
     "output_type": "stream",
     "text": [
      "              precision    recall  f1-score   support\n",
      "\n",
      "       above       0.91      0.85      0.88      2112\n",
      "       below       0.76      0.84      0.80      1158\n",
      "\n",
      "    accuracy                           0.85      3270\n",
      "   macro avg       0.83      0.85      0.84      3270\n",
      "weighted avg       0.86      0.85      0.85      3270\n",
      "\n"
     ]
    }
   ],
   "source": [
    "print(classification_report(y_val, y_pred_threshold2, target_names=['above', 'below']))"
   ]
  },
  {
   "cell_type": "markdown",
   "metadata": {},
   "source": [
    "Mit der gleichen Begründung wie im ersten Modell wird hier das Modell mit dem besten F1-Score, also das Modell mit dem Threshold von 0,5 gewählt."
   ]
  },
  {
   "cell_type": "markdown",
   "metadata": {},
   "source": [
    "# Finale Evaluation mit Testdaten"
   ]
  },
  {
   "cell_type": "markdown",
   "metadata": {},
   "source": [
    "## Anpassung Testdaten"
   ]
  },
  {
   "cell_type": "markdown",
   "metadata": {},
   "source": [
    "### Anpassung datatypes & Bereinigung"
   ]
  },
  {
   "cell_type": "markdown",
   "metadata": {},
   "source": [
    "Die Anpassung der Datentypen und das Entfernen der nicht benötigten Spalten muss genauso durchgeführt werden wie bei den Trainingsdaten."
   ]
  },
  {
   "cell_type": "code",
   "execution_count": 39,
   "metadata": {},
   "outputs": [],
   "source": [
    "# droppen von NULL Values\n",
    "test_dataset = test_dataset.dropna()"
   ]
  },
  {
   "cell_type": "code",
   "execution_count": 40,
   "metadata": {},
   "outputs": [],
   "source": [
    "# Anpassung der datatypes\n",
    "test_dataset['median_house_value'] = test_dataset['median_house_value'].astype(\"float64\")\n",
    "test_dataset['housing_median_age'] = test_dataset['housing_median_age'].astype(\"float64\")\n",
    "test_dataset['total_bedrooms'] = test_dataset['total_bedrooms'].astype(\"int64\")\n",
    "test_dataset['ocean_proximity'] = test_dataset['ocean_proximity'].astype(\"category\")"
   ]
  },
  {
   "cell_type": "code",
   "execution_count": 41,
   "metadata": {},
   "outputs": [],
   "source": [
    "#correct price_category values\n",
    "test_dataset['updated_price_cat'] = np.where(test_dataset.median_house_value >= 150000, 'above', 'below')"
   ]
  },
  {
   "cell_type": "code",
   "execution_count": 42,
   "metadata": {},
   "outputs": [],
   "source": [
    "test_dataset['updated_price_cat'] = test_dataset['updated_price_cat'].astype(\"category\")"
   ]
  },
  {
   "cell_type": "code",
   "execution_count": 43,
   "metadata": {},
   "outputs": [],
   "source": [
    "test_dataset = test_dataset.drop(columns=['price_category'])\n",
    "test_dataset = test_dataset.drop(columns=['median_house_value'])"
   ]
  },
  {
   "cell_type": "markdown",
   "metadata": {},
   "source": [
    "### Feature Engineering Testdaten"
   ]
  },
  {
   "cell_type": "markdown",
   "metadata": {},
   "source": [
    "Für die Testdaten müssen die gleichen Anpassungen an den Features durchgeführt werden wie bei den Trainingsdaten."
   ]
  },
  {
   "cell_type": "code",
   "execution_count": 44,
   "metadata": {},
   "outputs": [],
   "source": [
    "# neue Varaiablen müssen auch in den Testdaten ergänzt werden\n",
    "test_dataset=test_dataset.assign(people_per_household=lambda test_dataset: test_dataset.population/test_dataset.households)\n",
    "test_dataset=test_dataset.assign(bedrooms_per_household=lambda test_dataset: test_dataset.total_bedrooms/test_dataset.households)\n",
    "test_dataset=test_dataset.assign(rooms_per_household=lambda test_dataset: test_dataset.total_rooms/test_dataset.households)\n",
    "test_dataset=test_dataset.assign(bedrooms_per_room=lambda test_dataset: test_dataset.total_bedrooms/test_dataset.total_rooms)"
   ]
  },
  {
   "cell_type": "code",
   "execution_count": 45,
   "metadata": {},
   "outputs": [],
   "source": [
    "test_dataset.ocean_proximity = test_dataset.ocean_proximity.str.replace(\"ISLAND\", \"NEAR WATER\", regex =True)\n",
    "test_dataset.ocean_proximity = test_dataset.ocean_proximity.str.replace(\"NEAR BAY\", \"NEAR WATER\", regex =True)\n",
    "test_dataset.ocean_proximity = test_dataset.ocean_proximity.str.replace(\"NEAR OCEAN\", \"NEAR WATER\", regex =True)\n",
    "test_dataset.ocean_proximity = test_dataset.ocean_proximity.str.replace(\"<1H OCEAN\", \"NEAR WATER\", regex =True)"
   ]
  },
  {
   "cell_type": "code",
   "execution_count": 46,
   "metadata": {},
   "outputs": [],
   "source": [
    "# durch die gerade stattgefundene Transformation muss der datatype wieder korrigiert werden\n",
    "test_dataset['ocean_proximity'] = test_dataset['ocean_proximity'].astype(\"category\")"
   ]
  },
  {
   "cell_type": "markdown",
   "metadata": {},
   "source": [
    "## Split Testdaten"
   ]
  },
  {
   "cell_type": "code",
   "execution_count": 47,
   "metadata": {},
   "outputs": [],
   "source": [
    "X2 = test_dataset.drop(columns=['updated_price_cat','ocean_proximity'])\n",
    "y2 = test_dataset.updated_price_cat"
   ]
  },
  {
   "cell_type": "markdown",
   "metadata": {},
   "source": [
    "## Validierung Classification mit statsmodels"
   ]
  },
  {
   "cell_type": "markdown",
   "metadata": {},
   "source": [
    "Hier wird das Classification Modell von statsmodels evaluiert. Zur Visualisierung wird die Confusion Matrix und der Classification Report verwendet."
   ]
  },
  {
   "cell_type": "code",
   "execution_count": 48,
   "metadata": {},
   "outputs": [
    {
     "data": {
      "image/png": "[encoded data removed]",
      "text/plain": [
       "<Figure size 432x288 with 2 Axes>"
      ]
     },
     "metadata": {
      "needs_background": "light"
     },
     "output_type": "display_data"
    }
   ],
   "source": [
    "y_pred_test1 = model1.predict(test_dataset)\n",
    "\n",
    "y_pred_test3 = np.where(y_pred_test1 >= .5, 'above', 'below')\n",
    "\n",
    "cm = confusion_matrix(y2, y_pred_test3)\n",
    "\n",
    "disp = ConfusionMatrixDisplay(confusion_matrix=cm,\n",
    "                              display_labels=class_pipe.classes_)\n",
    "disp.plot()\n",
    "plt.show()"
   ]
  },
  {
   "cell_type": "code",
   "execution_count": 49,
   "metadata": {},
   "outputs": [
    {
     "name": "stdout",
     "output_type": "stream",
     "text": [
      "              precision    recall  f1-score   support\n",
      "\n",
      "       above       0.88      0.91      0.89      2603\n",
      "       below       0.83      0.77      0.80      1478\n",
      "\n",
      "    accuracy                           0.86      4081\n",
      "   macro avg       0.86      0.84      0.85      4081\n",
      "weighted avg       0.86      0.86      0.86      4081\n",
      "\n"
     ]
    }
   ],
   "source": [
    "print(classification_report(y2, y_pred_test3, target_names=['above', 'below']))"
   ]
  },
  {
   "cell_type": "markdown",
   "metadata": {},
   "source": [
    "In der Evaluation mit den Testdaten schneidet das Modell leicht schlechter ab als mit den Trainingsdaten, liefert aber immernoch ein zufriedenstellendes Ergebnis.  \n",
    "\n",
    "Zum Vergleich die KPIs mit den Trainingsdaten:  \n",
    "Accuracy:  0.8523  \n",
    "Precision: 0.8667  \n",
    "Recall:    0.9058  \n",
    "F1 Score:  0.8858"
   ]
  },
  {
   "cell_type": "markdown",
   "metadata": {},
   "source": [
    "## Validierung Classification mit scikit learn"
   ]
  },
  {
   "cell_type": "code",
   "execution_count": 50,
   "metadata": {},
   "outputs": [
    {
     "data": {
      "image/png": "[encoded data removed]",
      "text/plain": [
       "<Figure size 432x288 with 2 Axes>"
      ]
     },
     "metadata": {
      "needs_background": "light"
     },
     "output_type": "display_data"
    }
   ],
   "source": [
    "pred_proba = class_pipe.predict_proba(X2)\n",
    "\n",
    "y_pred_test2 = np.where(pred_proba[:,0] >= .5, 'above', 'below')\n",
    "\n",
    "cm = confusion_matrix(y2, y_pred_test2)\n",
    "\n",
    "disp = ConfusionMatrixDisplay(confusion_matrix=cm,\n",
    "                              display_labels=class_pipe.classes_)\n",
    "disp.plot()\n",
    "plt.show()"
   ]
  },
  {
   "cell_type": "code",
   "execution_count": 51,
   "metadata": {},
   "outputs": [
    {
     "name": "stdout",
     "output_type": "stream",
     "text": [
      "              precision    recall  f1-score   support\n",
      "\n",
      "       above       0.87      0.91      0.89      2603\n",
      "       below       0.83      0.76      0.79      1478\n",
      "\n",
      "    accuracy                           0.85      4081\n",
      "   macro avg       0.85      0.83      0.84      4081\n",
      "weighted avg       0.85      0.85      0.85      4081\n",
      "\n"
     ]
    }
   ],
   "source": [
    "print(classification_report(y2, y_pred_test2, target_names=['above', 'below']))"
   ]
  },
  {
   "cell_type": "markdown",
   "metadata": {},
   "source": [
    "Auch dieses Modell schneidet in der Evaluation mit den Testdaten leicht schlechter ab als mit den Trainingsdaten, liefert aber immernoch ein zufriedenstellendes Ergebnis.  \n",
    "\n",
    "Zum Vergleich die KPIs mit den Trainingsdaten:  "
   ]
  },
  {
   "cell_type": "code",
   "execution_count": 52,
   "metadata": {},
   "outputs": [
    {
     "name": "stdout",
     "output_type": "stream",
     "text": [
      "              precision    recall  f1-score   support\n",
      "\n",
      "       above       0.88      0.90      0.89      2112\n",
      "       below       0.82      0.77      0.79      1158\n",
      "\n",
      "    accuracy                           0.86      3270\n",
      "   macro avg       0.85      0.84      0.84      3270\n",
      "weighted avg       0.86      0.86      0.86      3270\n",
      "\n"
     ]
    }
   ],
   "source": [
    "# Classification Report mit Trainingsdaten Threshold 0,5\n",
    "print(classification_report(y_val, y_pred, target_names=['above', 'below']))"
   ]
  },
  {
   "cell_type": "markdown",
   "metadata": {},
   "source": [
    ">**Fazit**: Das Classification Modell von statsmodels schneidet in der Evaluation leicht besser ab als das von scikit learn. Ein F1-Score von 0.85 erfüllt unser zu Beginn gesetztes Ziel."
   ]
  }
 ],
 "metadata": {
  "interpreter": {
   "hash": "463226f144cc21b006ce6927bfc93dd00694e52c8bc6857abb6e555b983749e9"
  },
  "kernelspec": {
   "display_name": "Python 3.8.2 64-bit ('base': conda)",
   "language": "python",
   "name": "python3"
  },
  "language_info": {
   "codemirror_mode": {
    "name": "ipython",
    "version": 3
   },
   "file_extension": ".py",
   "mimetype": "text/x-python",
   "name": "python",
   "nbconvert_exporter": "python",
   "pygments_lexer": "ipython3",
   "version": "3.9.7"
  },
  "orig_nbformat": 4
 },
 "nbformat": 4,
 "nbformat_minor": 2
}
